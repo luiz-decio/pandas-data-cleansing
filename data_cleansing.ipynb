{
 "cells": [
  {
   "cell_type": "code",
   "execution_count": 37,
   "metadata": {},
   "outputs": [],
   "source": [
    "import pandas as pd\n",
    "from faker import Faker\n",
    "import random\n",
    "import warnings\n",
    "\n",
    "warnings.filterwarnings('ignore')"
   ]
  },
  {
   "cell_type": "markdown",
   "metadata": {},
   "source": [
    "First of all we need to genarete some random data to work with. The Faker library can generate names, addresses, dates, and other types of random data. The Faker library is especially useful for creating large amounts of test data that is random but reproducible.\n",
    "\n"
   ]
  },
  {
   "cell_type": "code",
   "execution_count": 30,
   "metadata": {},
   "outputs": [
    {
     "name": "stdout",
     "output_type": "stream",
     "text": [
      "Generated data has 1755 records.\n"
     ]
    }
   ],
   "source": [
    "# Initialize Faker\n",
    "fake = Faker()\n",
    "\n",
    "# Create an empty data variable and populate with synthetic data\n",
    "data = []\n",
    "\n",
    "for _ in range(random.randint(1000, 2000)):\n",
    "    data.append({\n",
    "        'Name':fake.name(),\n",
    "        'Age':random.randint(18,70),\n",
    "        'Email':fake.email(),\n",
    "        'Phone':fake.phone_number(),\n",
    "        'Address':fake.address(),\n",
    "        'Salary':random.randint(20000, 150000),\n",
    "        'Join_Date':fake.date_this_century(),\n",
    "        'Employment_Status':random.choice(['Full-Time', 'Part-Time', 'Contract']),\n",
    "        'Department':random.choice(['IT', 'Engineering', 'Finance', 'HR', 'Marketing', 'Customer Success'])\n",
    "    })\n",
    "\n",
    "print(f'Generated data has {str(len(data))} records.')"
   ]
  },
  {
   "cell_type": "markdown",
   "metadata": {},
   "source": [
    "Define a function that will help defining the limits of some functions from the random library."
   ]
  },
  {
   "cell_type": "code",
   "execution_count": 7,
   "metadata": {},
   "outputs": [],
   "source": [
    "def gen_limit(data:list , percent: float):\n",
    "    limit = round(len(data) * percent)\n",
    "    return limit"
   ]
  },
  {
   "cell_type": "markdown",
   "metadata": {},
   "source": [
    "Let's skew the data in order to simulate a real world case where many times the data that comes with some missing values.\n",
    "\n",
    "The values used in the ```gen_limit``` function were defined just for the purpose of demonstration. Feel free to experiment with different values as you wish."
   ]
  },
  {
   "cell_type": "code",
   "execution_count": 9,
   "metadata": {},
   "outputs": [],
   "source": [
    "# Adding missing values to the Email column\n",
    "for i in random.sample(range(len(data)), random.randint(gen_limit(data, 0.1), gen_limit(data, 0.15))):\n",
    "    data[i]['Email'] = None\n",
    "\n",
    "# Adding missing values to the Phone column\n",
    "for i in random.sample(range(len(data)), random.randint(gen_limit(data, 0.15), gen_limit(data, 0.2))):\n",
    "    data[i]['Phone'] = None\n",
    "\n",
    "# Adding missing values to the Address column\n",
    "for i in random.sample(range(len(data)), random.randint(gen_limit(data, 0.05), gen_limit(data, 0.15))):\n",
    "    data[i]['Address'] = None"
   ]
  },
  {
   "cell_type": "markdown",
   "metadata": {},
   "source": [
    "Next let's duplicate a couple of rows since in real cases is really comun for this to happen. "
   ]
  },
  {
   "cell_type": "code",
   "execution_count": 12,
   "metadata": {},
   "outputs": [],
   "source": [
    "data.extend(random.sample(data, random.randint(gen_limit(data, 0.1), gen_limit(data, 0.15))))"
   ]
  },
  {
   "cell_type": "markdown",
   "metadata": {},
   "source": [
    "Now add some outliers so we can deal with it later. "
   ]
  },
  {
   "cell_type": "code",
   "execution_count": 13,
   "metadata": {},
   "outputs": [],
   "source": [
    "# Add outliers to the Salary column\n",
    "for i in random.sample(range(len(data)), random.randint(gen_limit(data, 0.01), gen_limit(data, 0.02))):\n",
    "    data[i]['Salary'] = random.randint(300000, 700000)"
   ]
  },
  {
   "cell_type": "markdown",
   "metadata": {},
   "source": [
    "Finally, create a Dataframe using the data that has been created so far and check how it looks."
   ]
  },
  {
   "cell_type": "code",
   "execution_count": 35,
   "metadata": {},
   "outputs": [
    {
     "data": {
      "text/html": [
       "<div>\n",
       "<style scoped>\n",
       "    .dataframe tbody tr th:only-of-type {\n",
       "        vertical-align: middle;\n",
       "    }\n",
       "\n",
       "    .dataframe tbody tr th {\n",
       "        vertical-align: top;\n",
       "    }\n",
       "\n",
       "    .dataframe thead th {\n",
       "        text-align: right;\n",
       "    }\n",
       "</style>\n",
       "<table border=\"1\" class=\"dataframe\">\n",
       "  <thead>\n",
       "    <tr style=\"text-align: right;\">\n",
       "      <th></th>\n",
       "      <th>Name</th>\n",
       "      <th>Age</th>\n",
       "      <th>Email</th>\n",
       "      <th>Phone</th>\n",
       "      <th>Address</th>\n",
       "      <th>Salary</th>\n",
       "      <th>Join_Date</th>\n",
       "      <th>Employment_Status</th>\n",
       "      <th>Department</th>\n",
       "    </tr>\n",
       "  </thead>\n",
       "  <tbody>\n",
       "    <tr>\n",
       "      <th>0</th>\n",
       "      <td>Rebecca Navarro</td>\n",
       "      <td>65</td>\n",
       "      <td>sherry19@example.com</td>\n",
       "      <td>(302)368-1704x731</td>\n",
       "      <td>7048 Ellis Freeway\\nSouth Adamview, AZ 39675</td>\n",
       "      <td>29202</td>\n",
       "      <td>2010-12-20</td>\n",
       "      <td>Contract</td>\n",
       "      <td>HR</td>\n",
       "    </tr>\n",
       "    <tr>\n",
       "      <th>1</th>\n",
       "      <td>Sandra Hogan</td>\n",
       "      <td>56</td>\n",
       "      <td>mrogers@example.com</td>\n",
       "      <td>358-343-3256</td>\n",
       "      <td>432 Robert Avenue Suite 887\\nSchneiderburgh, N...</td>\n",
       "      <td>141492</td>\n",
       "      <td>2017-11-07</td>\n",
       "      <td>Part-Time</td>\n",
       "      <td>Finance</td>\n",
       "    </tr>\n",
       "    <tr>\n",
       "      <th>2</th>\n",
       "      <td>Robert Navarro</td>\n",
       "      <td>28</td>\n",
       "      <td>allenkelly@example.org</td>\n",
       "      <td>(413)941-2437x756</td>\n",
       "      <td>321 Kelly Vista Suite 492\\nLake William, OR 33699</td>\n",
       "      <td>63645</td>\n",
       "      <td>2010-04-04</td>\n",
       "      <td>Full-Time</td>\n",
       "      <td>HR</td>\n",
       "    </tr>\n",
       "    <tr>\n",
       "      <th>3</th>\n",
       "      <td>Ricky Mendoza</td>\n",
       "      <td>19</td>\n",
       "      <td>jfrancis@example.com</td>\n",
       "      <td>+1-203-378-6348x646</td>\n",
       "      <td>393 Ryan Stream Apt. 616\\nWest Sherri, UT 38655</td>\n",
       "      <td>105629</td>\n",
       "      <td>2019-09-16</td>\n",
       "      <td>Contract</td>\n",
       "      <td>HR</td>\n",
       "    </tr>\n",
       "    <tr>\n",
       "      <th>4</th>\n",
       "      <td>Christopher Baker</td>\n",
       "      <td>51</td>\n",
       "      <td>rachelpace@example.net</td>\n",
       "      <td>851.267.8159</td>\n",
       "      <td>138 Allison Street\\nLake Michelle, IN 32468</td>\n",
       "      <td>68551</td>\n",
       "      <td>2005-02-02</td>\n",
       "      <td>Full-Time</td>\n",
       "      <td>IT</td>\n",
       "    </tr>\n",
       "  </tbody>\n",
       "</table>\n",
       "</div>"
      ],
      "text/plain": [
       "                Name  Age                   Email                Phone  \\\n",
       "0    Rebecca Navarro   65    sherry19@example.com    (302)368-1704x731   \n",
       "1       Sandra Hogan   56     mrogers@example.com         358-343-3256   \n",
       "2     Robert Navarro   28  allenkelly@example.org    (413)941-2437x756   \n",
       "3      Ricky Mendoza   19    jfrancis@example.com  +1-203-378-6348x646   \n",
       "4  Christopher Baker   51  rachelpace@example.net         851.267.8159   \n",
       "\n",
       "                                             Address  Salary   Join_Date  \\\n",
       "0       7048 Ellis Freeway\\nSouth Adamview, AZ 39675   29202  2010-12-20   \n",
       "1  432 Robert Avenue Suite 887\\nSchneiderburgh, N...  141492  2017-11-07   \n",
       "2  321 Kelly Vista Suite 492\\nLake William, OR 33699   63645  2010-04-04   \n",
       "3    393 Ryan Stream Apt. 616\\nWest Sherri, UT 38655  105629  2019-09-16   \n",
       "4        138 Allison Street\\nLake Michelle, IN 32468   68551  2005-02-02   \n",
       "\n",
       "  Employment_Status Department  \n",
       "0          Contract         HR  \n",
       "1         Part-Time    Finance  \n",
       "2         Full-Time         HR  \n",
       "3          Contract         HR  \n",
       "4         Full-Time         IT  "
      ]
     },
     "execution_count": 35,
     "metadata": {},
     "output_type": "execute_result"
    }
   ],
   "source": [
    "df = pd.DataFrame(data)\n",
    "df.head()"
   ]
  },
  {
   "cell_type": "markdown",
   "metadata": {},
   "source": [
    "Use the ```info()``` method to check how the amount of values of the columns that we skew differ from the rest."
   ]
  },
  {
   "cell_type": "code",
   "execution_count": 16,
   "metadata": {},
   "outputs": [
    {
     "name": "stdout",
     "output_type": "stream",
     "text": [
      "<class 'pandas.core.frame.DataFrame'>\n",
      "RangeIndex: 1318 entries, 0 to 1317\n",
      "Data columns (total 9 columns):\n",
      " #   Column             Non-Null Count  Dtype \n",
      "---  ------             --------------  ----- \n",
      " 0   Name               1318 non-null   object\n",
      " 1   Age                1318 non-null   int64 \n",
      " 2   Email              1183 non-null   object\n",
      " 3   Phone              1107 non-null   object\n",
      " 4   Address            1230 non-null   object\n",
      " 5   Salary             1318 non-null   int64 \n",
      " 6   Join_Date          1318 non-null   object\n",
      " 7   Employment_Status  1318 non-null   object\n",
      " 8   Department         1318 non-null   object\n",
      "dtypes: int64(2), object(7)\n",
      "memory usage: 92.8+ KB\n"
     ]
    }
   ],
   "source": [
    "df.info()"
   ]
  },
  {
   "cell_type": "markdown",
   "metadata": {},
   "source": [
    "Now let starting dealing with the duplicate records.\n",
    "\n",
    "Duplicate records are frequent in the real data cleaning cases and can often skew the data analysis."
   ]
  },
  {
   "cell_type": "code",
   "execution_count": 18,
   "metadata": {},
   "outputs": [
    {
     "name": "stdout",
     "output_type": "stream",
     "text": [
      "Number of duplicate rows: 121\n"
     ]
    }
   ],
   "source": [
    "duplicates = df.duplicated().sum()\n",
    "print(f'Number of duplicate rows: {duplicates}')\n",
    "\n",
    "df.drop_duplicates(inplace=True)"
   ]
  },
  {
   "cell_type": "markdown",
   "metadata": {},
   "source": [
    "Next we'll fill the empty values in order to have a string to inform that the values that are missing are unknow since the person related to could possibly not have informed them."
   ]
  },
  {
   "cell_type": "code",
   "execution_count": 19,
   "metadata": {},
   "outputs": [
    {
     "name": "stdout",
     "output_type": "stream",
     "text": [
      "Number of missing values:\n",
      "Name                   0\n",
      "Age                    0\n",
      "Email                124\n",
      "Phone                186\n",
      "Address               82\n",
      "Salary                 0\n",
      "Join_Date              0\n",
      "Employment_Status      0\n",
      "Department             0\n",
      "dtype: int64\n"
     ]
    }
   ],
   "source": [
    "# Check the amount of missing values in each column\n",
    "missing_values = df.isna().sum()\n",
    "print('Number of missing values:')\n",
    "print(missing_values)"
   ]
  },
  {
   "cell_type": "code",
   "execution_count": 38,
   "metadata": {},
   "outputs": [],
   "source": [
    "# Fill the missing values of each column with more intuitive info\n",
    "df['Email'].fillna('unknown', inplace=True)\n",
    "df['Phone'].fillna('unknown', inplace=True)\n",
    "df['Address'].fillna('unknown', inplace=True)"
   ]
  },
  {
   "cell_type": "markdown",
   "metadata": {},
   "source": [
    "Another crucial detail that can mess with the analysis are data types.\n",
    "\n",
    "It's really important to check wether the columns data types are properly set so it will work accordingly to your analysis later.\n",
    "\n",
    "In our case the colun Join_Date is not formatted as date, so we'll fix this now."
   ]
  },
  {
   "cell_type": "code",
   "execution_count": 22,
   "metadata": {},
   "outputs": [
    {
     "name": "stdout",
     "output_type": "stream",
     "text": [
      "Join_Date column after conversion:\n",
      "0   2001-06-23\n",
      "1   2007-10-17\n",
      "2   2015-12-04\n",
      "3   2008-03-12\n",
      "4   2022-10-05\n",
      "Name: Join_Date, dtype: datetime64[ns]\n"
     ]
    }
   ],
   "source": [
    "# Apply the correct data type to the column using pandas to_datetime method\n",
    "df['Join_Date'] = pd.to_datetime(df['Join_Date'])\n",
    "print('Join_Date column after conversion:')\n",
    "print(df['Join_Date'].head())"
   ]
  },
  {
   "cell_type": "markdown",
   "metadata": {},
   "source": [
    "Another commom practice that can help during the process of data cleaning is to create new useful columns.\n",
    "\n",
    "For example we could create a columns that tells the amount of years each person in the dataframe has worked, ubtracting the current year from the Join_Date year."
   ]
  },
  {
   "cell_type": "code",
   "execution_count": 23,
   "metadata": {},
   "outputs": [
    {
     "name": "stdout",
     "output_type": "stream",
     "text": [
      "New Column \"Years_Employed\":\n",
      "   Join_Date  Years_Employed\n",
      "0 2001-06-23              23\n",
      "1 2007-10-17              17\n",
      "2 2015-12-04               9\n",
      "3 2008-03-12              16\n",
      "4 2022-10-05               2\n"
     ]
    }
   ],
   "source": [
    "df['Years_Employed'] = pd.Timestamp.now().year - df['Join_Date'].dt.year\n",
    "print('New Column \"Years_Employed\":')\n",
    "print(df[['Join_Date', 'Years_Employed']].head())"
   ]
  },
  {
   "cell_type": "markdown",
   "metadata": {},
   "source": [
    "It’s quite common to run into string fields with inconsistent formatting or similar issues.\n",
    "\n",
    "Cleaning text can be as simple as applying a case conversion or as hard as writing a complex regular expression to get the string to the required format.\n",
    "\n",
    "In our example, the random genareted addresses can contain many '\\n' characters than hinder redability, so we can remove them using the ```replace``` method."
   ]
  },
  {
   "cell_type": "code",
   "execution_count": 24,
   "metadata": {},
   "outputs": [
    {
     "name": "stdout",
     "output_type": "stream",
     "text": [
      "Adress after text cleaning:\n",
      "0    79402 Peterson Drives Apt. 511 Davisstad, PA 3...\n",
      "1    55341 Amanda Gardens Apt. 764 Lake Mark, WI 07832\n",
      "2                710 Eric Estate Carlsonfurt, MS 78605\n",
      "3                809 Burns Creek Natashaport, IA 08093\n",
      "4    33150 Brianna Avenue Apt. 031 Port Markhaven, ...\n",
      "Name: Address, dtype: object\n"
     ]
    }
   ],
   "source": [
    "df['Address'] = df['Address'].str.replace('\\n', ' ', regex=False)\n",
    "print('Adress after text cleaning:')\n",
    "print(df['Address'].head())"
   ]
  },
  {
   "cell_type": "markdown",
   "metadata": {},
   "source": [
    "We still have the problem of outliers in our data, since previously salaries were randomly generated far above the others.\n",
    "\n",
    "Outliers can also be seen frequently and can make us draw distorted conclusions from the data, so it is always a good idea to check if they exist and avoid them.\n",
    "\n",
    "Let's check which salaries to find out wich values are more than three standard deviation away from the mean."
   ]
  },
  {
   "cell_type": "code",
   "execution_count": 25,
   "metadata": {},
   "outputs": [
    {
     "name": "stdout",
     "output_type": "stream",
     "text": [
      "Outliers based on salary:\n",
      "              Name  Salary\n",
      "0     Allison Hill  149966\n",
      "1  Kimberly Dudley   40179\n",
      "2    Renee Morales   51062\n",
      "3  Tricia Valencia  114261\n",
      "4   Theresa Miller   51131\n"
     ]
    }
   ],
   "source": [
    "z_scores = (df['Salary'] - df['Salary'].mean()) / df['Salary'].std()\n",
    "outliers = df[abs(z_scores) > 3]\n",
    "print('Outliers based on salary:')\n",
    "print(df[['Name', 'Salary']].head())"
   ]
  },
  {
   "cell_type": "markdown",
   "metadata": {},
   "source": [
    "Finally, take a look in the new cleaned and transformed data, where the data is correctly formatted and there are no more missing values in the columns or outliers."
   ]
  },
  {
   "cell_type": "code",
   "execution_count": 26,
   "metadata": {},
   "outputs": [
    {
     "name": "stdout",
     "output_type": "stream",
     "text": [
      "<class 'pandas.core.frame.DataFrame'>\n",
      "Index: 1197 entries, 0 to 1196\n",
      "Data columns (total 10 columns):\n",
      " #   Column             Non-Null Count  Dtype         \n",
      "---  ------             --------------  -----         \n",
      " 0   Name               1197 non-null   object        \n",
      " 1   Age                1197 non-null   int64         \n",
      " 2   Email              1197 non-null   object        \n",
      " 3   Phone              1197 non-null   object        \n",
      " 4   Address            1197 non-null   object        \n",
      " 5   Salary             1197 non-null   int64         \n",
      " 6   Join_Date          1197 non-null   datetime64[ns]\n",
      " 7   Employment_Status  1197 non-null   object        \n",
      " 8   Department         1197 non-null   object        \n",
      " 9   Years_Employed     1197 non-null   int32         \n",
      "dtypes: datetime64[ns](1), int32(1), int64(2), object(6)\n",
      "memory usage: 98.2+ KB\n",
      "None\n"
     ]
    }
   ],
   "source": [
    "print(df.info())"
   ]
  },
  {
   "cell_type": "code",
   "execution_count": 39,
   "metadata": {},
   "outputs": [
    {
     "data": {
      "text/html": [
       "<div>\n",
       "<style scoped>\n",
       "    .dataframe tbody tr th:only-of-type {\n",
       "        vertical-align: middle;\n",
       "    }\n",
       "\n",
       "    .dataframe tbody tr th {\n",
       "        vertical-align: top;\n",
       "    }\n",
       "\n",
       "    .dataframe thead th {\n",
       "        text-align: right;\n",
       "    }\n",
       "</style>\n",
       "<table border=\"1\" class=\"dataframe\">\n",
       "  <thead>\n",
       "    <tr style=\"text-align: right;\">\n",
       "      <th></th>\n",
       "      <th>Name</th>\n",
       "      <th>Age</th>\n",
       "      <th>Email</th>\n",
       "      <th>Phone</th>\n",
       "      <th>Address</th>\n",
       "      <th>Salary</th>\n",
       "      <th>Join_Date</th>\n",
       "      <th>Employment_Status</th>\n",
       "      <th>Department</th>\n",
       "    </tr>\n",
       "  </thead>\n",
       "  <tbody>\n",
       "    <tr>\n",
       "      <th>0</th>\n",
       "      <td>Rebecca Navarro</td>\n",
       "      <td>65</td>\n",
       "      <td>sherry19@example.com</td>\n",
       "      <td>(302)368-1704x731</td>\n",
       "      <td>7048 Ellis Freeway\\nSouth Adamview, AZ 39675</td>\n",
       "      <td>29202</td>\n",
       "      <td>2010-12-20</td>\n",
       "      <td>Contract</td>\n",
       "      <td>HR</td>\n",
       "    </tr>\n",
       "    <tr>\n",
       "      <th>1</th>\n",
       "      <td>Sandra Hogan</td>\n",
       "      <td>56</td>\n",
       "      <td>mrogers@example.com</td>\n",
       "      <td>358-343-3256</td>\n",
       "      <td>432 Robert Avenue Suite 887\\nSchneiderburgh, N...</td>\n",
       "      <td>141492</td>\n",
       "      <td>2017-11-07</td>\n",
       "      <td>Part-Time</td>\n",
       "      <td>Finance</td>\n",
       "    </tr>\n",
       "    <tr>\n",
       "      <th>2</th>\n",
       "      <td>Robert Navarro</td>\n",
       "      <td>28</td>\n",
       "      <td>allenkelly@example.org</td>\n",
       "      <td>(413)941-2437x756</td>\n",
       "      <td>321 Kelly Vista Suite 492\\nLake William, OR 33699</td>\n",
       "      <td>63645</td>\n",
       "      <td>2010-04-04</td>\n",
       "      <td>Full-Time</td>\n",
       "      <td>HR</td>\n",
       "    </tr>\n",
       "    <tr>\n",
       "      <th>3</th>\n",
       "      <td>Ricky Mendoza</td>\n",
       "      <td>19</td>\n",
       "      <td>jfrancis@example.com</td>\n",
       "      <td>+1-203-378-6348x646</td>\n",
       "      <td>393 Ryan Stream Apt. 616\\nWest Sherri, UT 38655</td>\n",
       "      <td>105629</td>\n",
       "      <td>2019-09-16</td>\n",
       "      <td>Contract</td>\n",
       "      <td>HR</td>\n",
       "    </tr>\n",
       "    <tr>\n",
       "      <th>4</th>\n",
       "      <td>Christopher Baker</td>\n",
       "      <td>51</td>\n",
       "      <td>rachelpace@example.net</td>\n",
       "      <td>851.267.8159</td>\n",
       "      <td>138 Allison Street\\nLake Michelle, IN 32468</td>\n",
       "      <td>68551</td>\n",
       "      <td>2005-02-02</td>\n",
       "      <td>Full-Time</td>\n",
       "      <td>IT</td>\n",
       "    </tr>\n",
       "  </tbody>\n",
       "</table>\n",
       "</div>"
      ],
      "text/plain": [
       "                Name  Age                   Email                Phone  \\\n",
       "0    Rebecca Navarro   65    sherry19@example.com    (302)368-1704x731   \n",
       "1       Sandra Hogan   56     mrogers@example.com         358-343-3256   \n",
       "2     Robert Navarro   28  allenkelly@example.org    (413)941-2437x756   \n",
       "3      Ricky Mendoza   19    jfrancis@example.com  +1-203-378-6348x646   \n",
       "4  Christopher Baker   51  rachelpace@example.net         851.267.8159   \n",
       "\n",
       "                                             Address  Salary   Join_Date  \\\n",
       "0       7048 Ellis Freeway\\nSouth Adamview, AZ 39675   29202  2010-12-20   \n",
       "1  432 Robert Avenue Suite 887\\nSchneiderburgh, N...  141492  2017-11-07   \n",
       "2  321 Kelly Vista Suite 492\\nLake William, OR 33699   63645  2010-04-04   \n",
       "3    393 Ryan Stream Apt. 616\\nWest Sherri, UT 38655  105629  2019-09-16   \n",
       "4        138 Allison Street\\nLake Michelle, IN 32468   68551  2005-02-02   \n",
       "\n",
       "  Employment_Status Department  \n",
       "0          Contract         HR  \n",
       "1         Part-Time    Finance  \n",
       "2         Full-Time         HR  \n",
       "3          Contract         HR  \n",
       "4         Full-Time         IT  "
      ]
     },
     "execution_count": 39,
     "metadata": {},
     "output_type": "execute_result"
    }
   ],
   "source": [
    "df.head()"
   ]
  },
  {
   "cell_type": "markdown",
   "metadata": {},
   "source": [
    "Being comfortable with the steps above is crucial to a data professional since cases similiar to these are extremely frequent, and our mission is to deliver good consistent and reliable data, wheter we are storing in data warehouses and data lakes, analysing to create a report or creating a new dashboard to an important client."
   ]
  }
 ],
 "metadata": {
  "kernelspec": {
   "display_name": "Python 3",
   "language": "python",
   "name": "python3"
  },
  "language_info": {
   "codemirror_mode": {
    "name": "ipython",
    "version": 3
   },
   "file_extension": ".py",
   "mimetype": "text/x-python",
   "name": "python",
   "nbconvert_exporter": "python",
   "pygments_lexer": "ipython3",
   "version": "3.11.2"
  }
 },
 "nbformat": 4,
 "nbformat_minor": 2
}
