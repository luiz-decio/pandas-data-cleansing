{
 "cells": [
  {
   "cell_type": "code",
   "execution_count": 160,
   "metadata": {},
   "outputs": [],
   "source": [
    "import pandas as pd\n",
    "from faker import Faker\n",
    "import random"
   ]
  },
  {
   "cell_type": "code",
   "execution_count": 161,
   "metadata": {},
   "outputs": [],
   "source": [
    "fake = Faker()\n",
    "\n",
    "Faker.seed(42)"
   ]
  },
  {
   "cell_type": "code",
   "execution_count": 162,
   "metadata": {},
   "outputs": [
    {
     "name": "stdout",
     "output_type": "stream",
     "text": [
      "Generated data has 1309 records.\n"
     ]
    }
   ],
   "source": [
    "data = []\n",
    "\n",
    "for _ in range(random.randint(1000, 2000)):\n",
    "    data.append({\n",
    "        'Name':fake.name(),\n",
    "        'Age':random.randint(18,70),\n",
    "        'Email':fake.email(),\n",
    "        'Phone':fake.phone_number(),\n",
    "        'Address':fake.address(),\n",
    "        'Salary':random.randint(20000, 150000),\n",
    "        'Join_Date':fake.date_this_century(),\n",
    "        'Employment_Status':random.choice(['Full-Time', 'Part-Time', 'Contract']),\n",
    "        'Department':random.choice(['IT', 'Engineering', 'Finance', 'HR', 'Marketing', 'Customer Success'])\n",
    "    })\n",
    "\n",
    "print(f'Generated data has {str(len(data))} records.')"
   ]
  },
  {
   "cell_type": "code",
   "execution_count": 163,
   "metadata": {},
   "outputs": [],
   "source": [
    "def gen_limit(data:list , percent: float):\n",
    "    limit = round(len(data) * percent)\n",
    "    return limit"
   ]
  },
  {
   "cell_type": "code",
   "execution_count": 164,
   "metadata": {},
   "outputs": [
    {
     "data": {
      "text/plain": [
       "131"
      ]
     },
     "execution_count": 164,
     "metadata": {},
     "output_type": "execute_result"
    }
   ],
   "source": [
    "gen_limit(data, 0.1)"
   ]
  },
  {
   "cell_type": "code",
   "execution_count": 165,
   "metadata": {},
   "outputs": [],
   "source": [
    "for i in random.sample(range(len(data)), random.randint(gen_limit(data, 0.1), gen_limit(data, 0.15))):\n",
    "    data[i]['Email'] = None"
   ]
  },
  {
   "cell_type": "code",
   "execution_count": 166,
   "metadata": {},
   "outputs": [],
   "source": [
    "for i in random.sample(range(len(data)), random.randint(gen_limit(data, 0.15), gen_limit(data, 0.2))):\n",
    "    data[i]['Phone'] = None"
   ]
  },
  {
   "cell_type": "code",
   "execution_count": 167,
   "metadata": {},
   "outputs": [],
   "source": [
    "for i in random.sample(range(len(data)), random.randint(gen_limit(data, 0.05), gen_limit(data, 0.15))):\n",
    "    data[i]['Address'] = None"
   ]
  },
  {
   "cell_type": "code",
   "execution_count": 168,
   "metadata": {},
   "outputs": [],
   "source": [
    "data.extend(random.sample(data, random.randint(gen_limit(data, 0.1), gen_limit(data, 0.15))))"
   ]
  },
  {
   "cell_type": "code",
   "execution_count": 169,
   "metadata": {},
   "outputs": [],
   "source": [
    "for i in random.sample(range(len(data)), random.randint(gen_limit(data, 0.01), gen_limit(data, 0.02))):\n",
    "    data[i]['Salary'] = random.randint(300000, 700000)"
   ]
  },
  {
   "cell_type": "code",
   "execution_count": 170,
   "metadata": {},
   "outputs": [],
   "source": [
    "df = pd.DataFrame(data)"
   ]
  },
  {
   "cell_type": "code",
   "execution_count": 171,
   "metadata": {},
   "outputs": [
    {
     "data": {
      "text/html": [
       "<div>\n",
       "<style scoped>\n",
       "    .dataframe tbody tr th:only-of-type {\n",
       "        vertical-align: middle;\n",
       "    }\n",
       "\n",
       "    .dataframe tbody tr th {\n",
       "        vertical-align: top;\n",
       "    }\n",
       "\n",
       "    .dataframe thead th {\n",
       "        text-align: right;\n",
       "    }\n",
       "</style>\n",
       "<table border=\"1\" class=\"dataframe\">\n",
       "  <thead>\n",
       "    <tr style=\"text-align: right;\">\n",
       "      <th></th>\n",
       "      <th>Name</th>\n",
       "      <th>Age</th>\n",
       "      <th>Email</th>\n",
       "      <th>Phone</th>\n",
       "      <th>Address</th>\n",
       "      <th>Salary</th>\n",
       "      <th>Join_Date</th>\n",
       "      <th>Employment_Status</th>\n",
       "      <th>Department</th>\n",
       "    </tr>\n",
       "  </thead>\n",
       "  <tbody>\n",
       "    <tr>\n",
       "      <th>0</th>\n",
       "      <td>Allison Hill</td>\n",
       "      <td>26</td>\n",
       "      <td>None</td>\n",
       "      <td>+1-219-560-0133</td>\n",
       "      <td>79402 Peterson Drives Apt. 511\\nDavisstad, PA ...</td>\n",
       "      <td>66735</td>\n",
       "      <td>2001-06-23</td>\n",
       "      <td>Contract</td>\n",
       "      <td>IT</td>\n",
       "    </tr>\n",
       "    <tr>\n",
       "      <th>1</th>\n",
       "      <td>Kimberly Dudley</td>\n",
       "      <td>19</td>\n",
       "      <td>smiller@example.net</td>\n",
       "      <td>+1-659-931-0341x316</td>\n",
       "      <td>55341 Amanda Gardens Apt. 764\\nLake Mark, WI 0...</td>\n",
       "      <td>131142</td>\n",
       "      <td>2007-10-17</td>\n",
       "      <td>Part-Time</td>\n",
       "      <td>IT</td>\n",
       "    </tr>\n",
       "    <tr>\n",
       "      <th>2</th>\n",
       "      <td>Renee Morales</td>\n",
       "      <td>56</td>\n",
       "      <td>clarksherri@example.net</td>\n",
       "      <td>None</td>\n",
       "      <td>None</td>\n",
       "      <td>78155</td>\n",
       "      <td>2015-12-04</td>\n",
       "      <td>Full-Time</td>\n",
       "      <td>Finance</td>\n",
       "    </tr>\n",
       "    <tr>\n",
       "      <th>3</th>\n",
       "      <td>Tricia Valencia</td>\n",
       "      <td>33</td>\n",
       "      <td>frazierdanny@example.net</td>\n",
       "      <td>001-645-514-6270x48281</td>\n",
       "      <td>None</td>\n",
       "      <td>39409</td>\n",
       "      <td>2008-03-12</td>\n",
       "      <td>Contract</td>\n",
       "      <td>Customer Success</td>\n",
       "    </tr>\n",
       "    <tr>\n",
       "      <th>4</th>\n",
       "      <td>Theresa Miller</td>\n",
       "      <td>59</td>\n",
       "      <td>wcabrera@example.net</td>\n",
       "      <td>001-822-778-2489x63834</td>\n",
       "      <td>33150 Brianna Avenue Apt. 031\\nPort Markhaven,...</td>\n",
       "      <td>64989</td>\n",
       "      <td>2022-10-05</td>\n",
       "      <td>Contract</td>\n",
       "      <td>Marketing</td>\n",
       "    </tr>\n",
       "    <tr>\n",
       "      <th>...</th>\n",
       "      <td>...</td>\n",
       "      <td>...</td>\n",
       "      <td>...</td>\n",
       "      <td>...</td>\n",
       "      <td>...</td>\n",
       "      <td>...</td>\n",
       "      <td>...</td>\n",
       "      <td>...</td>\n",
       "      <td>...</td>\n",
       "    </tr>\n",
       "    <tr>\n",
       "      <th>1435</th>\n",
       "      <td>Michelle Price</td>\n",
       "      <td>57</td>\n",
       "      <td>rachel41@example.net</td>\n",
       "      <td>872.277.6857</td>\n",
       "      <td>9429 Lori Meadow\\nSouth Markmouth, CT 67557</td>\n",
       "      <td>74069</td>\n",
       "      <td>2018-09-24</td>\n",
       "      <td>Part-Time</td>\n",
       "      <td>Marketing</td>\n",
       "    </tr>\n",
       "    <tr>\n",
       "      <th>1436</th>\n",
       "      <td>Austin Johnson</td>\n",
       "      <td>60</td>\n",
       "      <td>rstevens@example.net</td>\n",
       "      <td>232.278.1952x371</td>\n",
       "      <td>761 Rosario Stravenue Apt. 980\\nCastilloton, L...</td>\n",
       "      <td>50536</td>\n",
       "      <td>2001-05-10</td>\n",
       "      <td>Full-Time</td>\n",
       "      <td>Engineering</td>\n",
       "    </tr>\n",
       "    <tr>\n",
       "      <th>1437</th>\n",
       "      <td>Ryan Johnson</td>\n",
       "      <td>27</td>\n",
       "      <td>michelle57@example.com</td>\n",
       "      <td>+1-948-872-8299</td>\n",
       "      <td>7831 Parker Loop Suite 240\\nNew Lisaberg, MI 3...</td>\n",
       "      <td>20086</td>\n",
       "      <td>2015-12-18</td>\n",
       "      <td>Full-Time</td>\n",
       "      <td>Marketing</td>\n",
       "    </tr>\n",
       "    <tr>\n",
       "      <th>1438</th>\n",
       "      <td>Blake Watson</td>\n",
       "      <td>59</td>\n",
       "      <td>nicole39@example.org</td>\n",
       "      <td>548-490-9322x533</td>\n",
       "      <td>51025 Cooper Circle\\nNew Nicolebury, MA 37683</td>\n",
       "      <td>101897</td>\n",
       "      <td>2011-03-07</td>\n",
       "      <td>Full-Time</td>\n",
       "      <td>Customer Success</td>\n",
       "    </tr>\n",
       "    <tr>\n",
       "      <th>1439</th>\n",
       "      <td>Sylvia Barnes DVM</td>\n",
       "      <td>61</td>\n",
       "      <td>everettpaul@example.com</td>\n",
       "      <td>001-728-418-2912x789</td>\n",
       "      <td>None</td>\n",
       "      <td>148882</td>\n",
       "      <td>2012-07-08</td>\n",
       "      <td>Part-Time</td>\n",
       "      <td>Engineering</td>\n",
       "    </tr>\n",
       "  </tbody>\n",
       "</table>\n",
       "<p>1440 rows × 9 columns</p>\n",
       "</div>"
      ],
      "text/plain": [
       "                   Name  Age                     Email  \\\n",
       "0          Allison Hill   26                      None   \n",
       "1       Kimberly Dudley   19       smiller@example.net   \n",
       "2         Renee Morales   56   clarksherri@example.net   \n",
       "3       Tricia Valencia   33  frazierdanny@example.net   \n",
       "4        Theresa Miller   59      wcabrera@example.net   \n",
       "...                 ...  ...                       ...   \n",
       "1435     Michelle Price   57      rachel41@example.net   \n",
       "1436     Austin Johnson   60      rstevens@example.net   \n",
       "1437       Ryan Johnson   27    michelle57@example.com   \n",
       "1438       Blake Watson   59      nicole39@example.org   \n",
       "1439  Sylvia Barnes DVM   61   everettpaul@example.com   \n",
       "\n",
       "                       Phone  \\\n",
       "0            +1-219-560-0133   \n",
       "1        +1-659-931-0341x316   \n",
       "2                       None   \n",
       "3     001-645-514-6270x48281   \n",
       "4     001-822-778-2489x63834   \n",
       "...                      ...   \n",
       "1435            872.277.6857   \n",
       "1436        232.278.1952x371   \n",
       "1437         +1-948-872-8299   \n",
       "1438        548-490-9322x533   \n",
       "1439    001-728-418-2912x789   \n",
       "\n",
       "                                                Address  Salary   Join_Date  \\\n",
       "0     79402 Peterson Drives Apt. 511\\nDavisstad, PA ...   66735  2001-06-23   \n",
       "1     55341 Amanda Gardens Apt. 764\\nLake Mark, WI 0...  131142  2007-10-17   \n",
       "2                                                  None   78155  2015-12-04   \n",
       "3                                                  None   39409  2008-03-12   \n",
       "4     33150 Brianna Avenue Apt. 031\\nPort Markhaven,...   64989  2022-10-05   \n",
       "...                                                 ...     ...         ...   \n",
       "1435        9429 Lori Meadow\\nSouth Markmouth, CT 67557   74069  2018-09-24   \n",
       "1436  761 Rosario Stravenue Apt. 980\\nCastilloton, L...   50536  2001-05-10   \n",
       "1437  7831 Parker Loop Suite 240\\nNew Lisaberg, MI 3...   20086  2015-12-18   \n",
       "1438      51025 Cooper Circle\\nNew Nicolebury, MA 37683  101897  2011-03-07   \n",
       "1439                                               None  148882  2012-07-08   \n",
       "\n",
       "     Employment_Status        Department  \n",
       "0             Contract                IT  \n",
       "1            Part-Time                IT  \n",
       "2            Full-Time           Finance  \n",
       "3             Contract  Customer Success  \n",
       "4             Contract         Marketing  \n",
       "...                ...               ...  \n",
       "1435         Part-Time         Marketing  \n",
       "1436         Full-Time       Engineering  \n",
       "1437         Full-Time         Marketing  \n",
       "1438         Full-Time  Customer Success  \n",
       "1439         Part-Time       Engineering  \n",
       "\n",
       "[1440 rows x 9 columns]"
      ]
     },
     "execution_count": 171,
     "metadata": {},
     "output_type": "execute_result"
    }
   ],
   "source": [
    "df"
   ]
  },
  {
   "cell_type": "code",
   "execution_count": 172,
   "metadata": {},
   "outputs": [
    {
     "name": "stdout",
     "output_type": "stream",
     "text": [
      "<class 'pandas.core.frame.DataFrame'>\n",
      "RangeIndex: 1440 entries, 0 to 1439\n",
      "Data columns (total 9 columns):\n",
      " #   Column             Non-Null Count  Dtype \n",
      "---  ------             --------------  ----- \n",
      " 0   Name               1440 non-null   object\n",
      " 1   Age                1440 non-null   int64 \n",
      " 2   Email              1288 non-null   object\n",
      " 3   Phone              1203 non-null   object\n",
      " 4   Address            1262 non-null   object\n",
      " 5   Salary             1440 non-null   int64 \n",
      " 6   Join_Date          1440 non-null   object\n",
      " 7   Employment_Status  1440 non-null   object\n",
      " 8   Department         1440 non-null   object\n",
      "dtypes: int64(2), object(7)\n",
      "memory usage: 101.4+ KB\n"
     ]
    }
   ],
   "source": [
    "df.info()"
   ]
  },
  {
   "cell_type": "code",
   "execution_count": 173,
   "metadata": {},
   "outputs": [
    {
     "data": {
      "text/html": [
       "<div>\n",
       "<style scoped>\n",
       "    .dataframe tbody tr th:only-of-type {\n",
       "        vertical-align: middle;\n",
       "    }\n",
       "\n",
       "    .dataframe tbody tr th {\n",
       "        vertical-align: top;\n",
       "    }\n",
       "\n",
       "    .dataframe thead th {\n",
       "        text-align: right;\n",
       "    }\n",
       "</style>\n",
       "<table border=\"1\" class=\"dataframe\">\n",
       "  <thead>\n",
       "    <tr style=\"text-align: right;\">\n",
       "      <th></th>\n",
       "      <th>Name</th>\n",
       "      <th>Age</th>\n",
       "      <th>Email</th>\n",
       "      <th>Phone</th>\n",
       "      <th>Address</th>\n",
       "      <th>Salary</th>\n",
       "      <th>Join_Date</th>\n",
       "      <th>Employment_Status</th>\n",
       "      <th>Department</th>\n",
       "    </tr>\n",
       "  </thead>\n",
       "  <tbody>\n",
       "    <tr>\n",
       "      <th>0</th>\n",
       "      <td>Allison Hill</td>\n",
       "      <td>26</td>\n",
       "      <td>None</td>\n",
       "      <td>+1-219-560-0133</td>\n",
       "      <td>79402 Peterson Drives Apt. 511\\nDavisstad, PA ...</td>\n",
       "      <td>66735</td>\n",
       "      <td>2001-06-23</td>\n",
       "      <td>Contract</td>\n",
       "      <td>IT</td>\n",
       "    </tr>\n",
       "    <tr>\n",
       "      <th>1</th>\n",
       "      <td>Kimberly Dudley</td>\n",
       "      <td>19</td>\n",
       "      <td>smiller@example.net</td>\n",
       "      <td>+1-659-931-0341x316</td>\n",
       "      <td>55341 Amanda Gardens Apt. 764\\nLake Mark, WI 0...</td>\n",
       "      <td>131142</td>\n",
       "      <td>2007-10-17</td>\n",
       "      <td>Part-Time</td>\n",
       "      <td>IT</td>\n",
       "    </tr>\n",
       "    <tr>\n",
       "      <th>2</th>\n",
       "      <td>Renee Morales</td>\n",
       "      <td>56</td>\n",
       "      <td>clarksherri@example.net</td>\n",
       "      <td>None</td>\n",
       "      <td>None</td>\n",
       "      <td>78155</td>\n",
       "      <td>2015-12-04</td>\n",
       "      <td>Full-Time</td>\n",
       "      <td>Finance</td>\n",
       "    </tr>\n",
       "    <tr>\n",
       "      <th>3</th>\n",
       "      <td>Tricia Valencia</td>\n",
       "      <td>33</td>\n",
       "      <td>frazierdanny@example.net</td>\n",
       "      <td>001-645-514-6270x48281</td>\n",
       "      <td>None</td>\n",
       "      <td>39409</td>\n",
       "      <td>2008-03-12</td>\n",
       "      <td>Contract</td>\n",
       "      <td>Customer Success</td>\n",
       "    </tr>\n",
       "    <tr>\n",
       "      <th>4</th>\n",
       "      <td>Theresa Miller</td>\n",
       "      <td>59</td>\n",
       "      <td>wcabrera@example.net</td>\n",
       "      <td>001-822-778-2489x63834</td>\n",
       "      <td>33150 Brianna Avenue Apt. 031\\nPort Markhaven,...</td>\n",
       "      <td>64989</td>\n",
       "      <td>2022-10-05</td>\n",
       "      <td>Contract</td>\n",
       "      <td>Marketing</td>\n",
       "    </tr>\n",
       "  </tbody>\n",
       "</table>\n",
       "</div>"
      ],
      "text/plain": [
       "              Name  Age                     Email                   Phone  \\\n",
       "0     Allison Hill   26                      None         +1-219-560-0133   \n",
       "1  Kimberly Dudley   19       smiller@example.net     +1-659-931-0341x316   \n",
       "2    Renee Morales   56   clarksherri@example.net                    None   \n",
       "3  Tricia Valencia   33  frazierdanny@example.net  001-645-514-6270x48281   \n",
       "4   Theresa Miller   59      wcabrera@example.net  001-822-778-2489x63834   \n",
       "\n",
       "                                             Address  Salary   Join_Date  \\\n",
       "0  79402 Peterson Drives Apt. 511\\nDavisstad, PA ...   66735  2001-06-23   \n",
       "1  55341 Amanda Gardens Apt. 764\\nLake Mark, WI 0...  131142  2007-10-17   \n",
       "2                                               None   78155  2015-12-04   \n",
       "3                                               None   39409  2008-03-12   \n",
       "4  33150 Brianna Avenue Apt. 031\\nPort Markhaven,...   64989  2022-10-05   \n",
       "\n",
       "  Employment_Status        Department  \n",
       "0          Contract                IT  \n",
       "1         Part-Time                IT  \n",
       "2         Full-Time           Finance  \n",
       "3          Contract  Customer Success  \n",
       "4          Contract         Marketing  "
      ]
     },
     "execution_count": 173,
     "metadata": {},
     "output_type": "execute_result"
    }
   ],
   "source": [
    "df.head()"
   ]
  },
  {
   "cell_type": "code",
   "execution_count": 178,
   "metadata": {},
   "outputs": [
    {
     "name": "stdout",
     "output_type": "stream",
     "text": [
      "Number of duplicate rows: 0\n"
     ]
    }
   ],
   "source": [
    "duplicates = df.duplicated().sum()\n",
    "print(f'Number of duplicate rows: {duplicates}')\n",
    "\n",
    "df.drop_duplicates(inplace=True)"
   ]
  },
  {
   "cell_type": "code",
   "execution_count": 184,
   "metadata": {},
   "outputs": [
    {
     "name": "stdout",
     "output_type": "stream",
     "text": [
      "Number of missing values:\n",
      "Name                   0\n",
      "Age                    0\n",
      "Email                136\n",
      "Phone                218\n",
      "Address              159\n",
      "Salary                 0\n",
      "Join_Date              0\n",
      "Employment_Status      0\n",
      "Department             0\n",
      "dtype: int64\n"
     ]
    }
   ],
   "source": [
    "missing_values = df.isna().sum()\n",
    "print('Number of missing values:')\n",
    "print(missing_values)"
   ]
  },
  {
   "cell_type": "code",
   "execution_count": 199,
   "metadata": {},
   "outputs": [],
   "source": [
    "df['Email'].fillna('unknown', inplace=True)\n",
    "df['Phone'].fillna('unknown', inplace=True)\n",
    "df['Address'].fillna('unknown', inplace=True)"
   ]
  },
  {
   "cell_type": "code",
   "execution_count": null,
   "metadata": {},
   "outputs": [],
   "source": [
    "for i in random.sample(range(len(data)), random.randint(gen_limit(data, 0.1), gen_limit(data, 0.15))):\n",
    "    data[i]['Email'] = None"
   ]
  },
  {
   "cell_type": "code",
   "execution_count": 190,
   "metadata": {},
   "outputs": [
    {
     "name": "stdout",
     "output_type": "stream",
     "text": [
      "Join_Date column after conversion:\n",
      "0   2001-06-23\n",
      "1   2007-10-17\n",
      "2   2015-12-04\n",
      "3   2008-03-12\n",
      "4   2022-10-05\n",
      "Name: Join_Date, dtype: datetime64[ns]\n"
     ]
    }
   ],
   "source": [
    "df['Join_Date'] = pd.to_datetime(df['Join_Date'])\n",
    "print('Join_Date column after conversion:')\n",
    "print(df['Join_Date'].head())"
   ]
  },
  {
   "cell_type": "code",
   "execution_count": 211,
   "metadata": {},
   "outputs": [
    {
     "name": "stdout",
     "output_type": "stream",
     "text": [
      "New Column \"Years_Employed\":\n",
      "   Join_Date  Years_Employed\n",
      "0 2001-06-23              23\n",
      "1 2007-10-17              17\n",
      "2 2015-12-04               9\n",
      "3 2008-03-12              16\n",
      "4 2022-10-05               2\n"
     ]
    }
   ],
   "source": [
    "df['Years_Employed'] = pd.Timestamp.now().year - df['Join_Date'].dt.year\n",
    "print('New Column \"Years_Employed\":')\n",
    "print(df[['Join_Date', 'Years_Employed']].head())"
   ]
  },
  {
   "cell_type": "code",
   "execution_count": 213,
   "metadata": {},
   "outputs": [
    {
     "name": "stdout",
     "output_type": "stream",
     "text": [
      "Adress after text cleaning:\n",
      "0    79402 Peterson Drives Apt. 511 Davisstad, PA 3...\n",
      "1    55341 Amanda Gardens Apt. 764 Lake Mark, WI 07832\n",
      "2                                              unknown\n",
      "3                                              unknown\n",
      "4    33150 Brianna Avenue Apt. 031 Port Markhaven, ...\n",
      "Name: Address, dtype: object\n"
     ]
    }
   ],
   "source": [
    "df['Address'] = df['Address'].str.replace('\\n', ' ', regex=False)\n",
    "print('Adress after text cleaning:')\n",
    "print(df['Address'].head())"
   ]
  },
  {
   "cell_type": "code",
   "execution_count": 230,
   "metadata": {},
   "outputs": [
    {
     "name": "stdout",
     "output_type": "stream",
     "text": [
      "Outliers based on salary:\n",
      "              Name  Salary\n",
      "0     Allison Hill   66735\n",
      "1  Kimberly Dudley  131142\n",
      "2    Renee Morales   78155\n",
      "3  Tricia Valencia   39409\n",
      "4   Theresa Miller   64989\n"
     ]
    }
   ],
   "source": [
    "z_scores = (df['Salary'] - df['Salary'].mean()) / df['Salary'].std()\n",
    "outliers = df[abs(z_scores) > 3]\n",
    "print('Outliers based on salary:')\n",
    "print(df[['Name', 'Salary']].head())"
   ]
  },
  {
   "cell_type": "code",
   "execution_count": 231,
   "metadata": {},
   "outputs": [
    {
     "data": {
      "text/plain": [
       "0      -0.385029\n",
       "1       0.601276\n",
       "2      -0.210147\n",
       "3      -0.803489\n",
       "4      -0.411767\n",
       "          ...   \n",
       "1304    0.543727\n",
       "1305   -0.681455\n",
       "1306    0.269613\n",
       "1307    0.621092\n",
       "1308    0.231896\n",
       "Name: Salary, Length: 1309, dtype: float64"
      ]
     },
     "execution_count": 231,
     "metadata": {},
     "output_type": "execute_result"
    }
   ],
   "source": [
    "z_scores"
   ]
  }
 ],
 "metadata": {
  "kernelspec": {
   "display_name": "Python 3",
   "language": "python",
   "name": "python3"
  },
  "language_info": {
   "codemirror_mode": {
    "name": "ipython",
    "version": 3
   },
   "file_extension": ".py",
   "mimetype": "text/x-python",
   "name": "python",
   "nbconvert_exporter": "python",
   "pygments_lexer": "ipython3",
   "version": "3.11.2"
  }
 },
 "nbformat": 4,
 "nbformat_minor": 2
}
